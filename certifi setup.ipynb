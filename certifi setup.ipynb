{
 "cells": [
  {
   "cell_type": "code",
   "execution_count": null,
   "id": "initial_id",
   "metadata": {
    "collapsed": true
   },
   "outputs": [],
   "source": [
    ""
   ]
  },
  {
   "metadata": {
    "ExecuteTime": {
     "end_time": "2024-06-05T18:26:58.379459Z",
     "start_time": "2024-06-05T18:26:58.362770Z"
    }
   },
   "cell_type": "code",
   "source": [
    "import certifi\n",
    "certifi.where()\n",
    "\n"
   ],
   "id": "34ce59fbae337eff",
   "outputs": [
    {
     "data": {
      "text/plain": [
       "'C:\\\\Users\\\\eyadh\\\\AppData\\\\Local\\\\.certifi\\\\cacert.pem'"
      ]
     },
     "execution_count": 1,
     "metadata": {},
     "output_type": "execute_result"
    }
   ],
   "execution_count": 1
  }
 ],
 "metadata": {
  "kernelspec": {
   "display_name": "Python 3",
   "language": "python",
   "name": "python3"
  },
  "language_info": {
   "codemirror_mode": {
    "name": "ipython",
    "version": 2
   },
   "file_extension": ".py",
   "mimetype": "text/x-python",
   "name": "python",
   "nbconvert_exporter": "python",
   "pygments_lexer": "ipython2",
   "version": "2.7.6"
  }
 },
 "nbformat": 4,
 "nbformat_minor": 5
}
