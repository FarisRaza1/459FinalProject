{
 "cells": [
  {
   "cell_type": "code",
   "execution_count": 2,
   "id": "e7c07b87-359a-4bdd-9939-9e7f3b45e0a1",
   "metadata": {
    "tags": []
   },
   "outputs": [],
   "source": [
    "import edgedb\n",
    "import gradio as gr\n",
    "import gradio as gr\n",
    "import edgedb\n",
    "from transformers import BertTokenizer, BertModel\n",
    "import torch\n",
    "import numpy as np\n",
    "\n",
    "conn = edgedb.create_client()"
   ]
  },
  {
   "cell_type": "code",
   "execution_count": 7,
   "id": "cd3fa9db-8fdc-45b8-81a3-6f21a961978d",
   "metadata": {
    "tags": []
   },
   "outputs": [
    {
     "name": "stdout",
     "output_type": "stream",
     "text": [
      "Running on local URL:  http://127.0.0.1:7861\n",
      "IMPORTANT: You are using gradio version 4.20.1, however version 4.29.0 is available, please upgrade.\n",
      "--------\n",
      "Running on public URL: https://95a36a7ba32b8dffcc.gradio.live\n",
      "\n",
      "This share link expires in 72 hours. For free permanent hosting and GPU upgrades, run `gradio deploy` from Terminal to deploy to Spaces (https://huggingface.co/spaces)\n"
     ]
    },
    {
     "data": {
      "text/html": [
       "<div><iframe src=\"https://95a36a7ba32b8dffcc.gradio.live\" width=\"100%\" height=\"500\" allow=\"autoplay; camera; microphone; clipboard-read; clipboard-write;\" frameborder=\"0\" allowfullscreen></iframe></div>"
      ],
      "text/plain": [
       "<IPython.core.display.HTML object>"
      ]
     },
     "metadata": {},
     "output_type": "display_data"
    },
    {
     "data": {
      "text/plain": []
     },
     "execution_count": 7,
     "metadata": {},
     "output_type": "execute_result"
    }
   ],
   "source": [
    "tokenizer = BertTokenizer.from_pretrained('bert-base-uncased')\n",
    "model = BertModel.from_pretrained('bert-base-uncased')\n",
    "\n",
    "def get_injury_data(location):\n",
    "    jsonResponse = conn.query(\n",
    "        \"\"\"\n",
    "        SELECT InjuryLocation {\n",
    "            name,\n",
    "            injuries: {\n",
    "                name,\n",
    "                symptoms: {\n",
    "                    description\n",
    "                },\n",
    "                treatments: {\n",
    "                    name,\n",
    "                    requires_devices: {\n",
    "                        name\n",
    "                    }\n",
    "                }\n",
    "            }\n",
    "        }\n",
    "        FILTER .name = <str>$injury_name\n",
    "        \"\"\",\n",
    "        injury_name=location\n",
    "    )\n",
    "    return jsonResponse\n",
    "\n",
    "def get_symptom_embedding(symptom):\n",
    "    inputs = tokenizer(symptom, return_tensors='pt')\n",
    "    outputs = model(**inputs)\n",
    "    return outputs.last_hidden_state.mean(dim=1).detach().numpy()\n",
    "\n",
    "def find_best_match(location, symptoms):\n",
    "    injury_data = get_injury_data(location)\n",
    "    symptom_list = [s.strip() for s in symptoms.split(',')]\n",
    "    \n",
    "    best_matches = []\n",
    "    \n",
    "    for user_symptom in symptom_list:\n",
    "        user_embedding = get_symptom_embedding(user_symptom)\n",
    "        best_match = None\n",
    "        best_score = float('inf')\n",
    "        \n",
    "        for injury in injury_data[0].injuries:\n",
    "            for db_symptom in injury.symptoms:\n",
    "                db_embedding = get_symptom_embedding(db_symptom.description)\n",
    "                score = np.linalg.norm(user_embedding - db_embedding)\n",
    "                if score < best_score:\n",
    "                    best_score = score\n",
    "                    best_match = injury\n",
    "        \n",
    "        best_matches.append(best_match)\n",
    "    \n",
    "    best_injury = max(set(best_matches), key=best_matches.count)\n",
    "    best_treatments = best_injury.treatments\n",
    "\n",
    "    treatment_names = [treatment.name for treatment in best_treatments]\n",
    "    medical_devices = set()\n",
    "    for treatment in best_treatments:\n",
    "        for device in treatment.requires_devices:\n",
    "            medical_devices.add(device.name)\n",
    "    \n",
    "    return best_injury.name, treatment_names, list(medical_devices)\n",
    "\n",
    "def process_injury(location, symptoms):\n",
    "    best_injury, best_treatments, medical_devices = find_best_match(location, symptoms)\n",
    "    return best_injury, ', '.join(best_treatments), ', '.join(medical_devices)\n",
    "\n",
    "dropdown = gr.Dropdown(choices=[\"Shoulder\", \"Knee\", \"Feet\"], label=\"Injury Location\")\n",
    "textbox = gr.Textbox(lines=2, placeholder=\"Enter symptoms separated by commas\", label=\"Symptoms\")\n",
    "\n",
    "interface = gr.Interface(\n",
    "    fn=process_injury, \n",
    "    inputs=[dropdown, textbox], \n",
    "    outputs=[gr.Textbox(label=\"Predicted Injury\"), gr.Textbox(label=\"Treatment\"), gr.Textbox(label=\"Medical Devices\")], \n",
    "    title=\"Injury Predictor\"\n",
    ")\n",
    "\n",
    "interface.launch(share=True)"
   ]
  },
  {
   "cell_type": "code",
   "execution_count": null,
   "id": "1da2ce3a-25e0-4a14-84b9-3b0ccbb45989",
   "metadata": {},
   "outputs": [],
   "source": []
  }
 ],
 "metadata": {
  "kernelspec": {
   "display_name": "Python 3 (ipykernel)",
   "language": "python",
   "name": "python3"
  },
  "language_info": {
   "codemirror_mode": {
    "name": "ipython",
    "version": 3
   },
   "file_extension": ".py",
   "mimetype": "text/x-python",
   "name": "python",
   "nbconvert_exporter": "python",
   "pygments_lexer": "ipython3",
   "version": "3.11.8"
  }
 },
 "nbformat": 4,
 "nbformat_minor": 5
}
