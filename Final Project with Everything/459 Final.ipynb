{
 "cells": [
  {
   "cell_type": "code",
   "id": "e7c07b87-359a-4bdd-9939-9e7f3b45e0a1",
   "metadata": {
    "tags": [],
    "ExecuteTime": {
     "end_time": "2024-06-05T20:27:35.096361Z",
     "start_time": "2024-06-05T20:27:29.656022Z"
    }
   },
   "source": [
    "import edgedb\n",
    "import gradio as gr\n",
    "from transformers import BertTokenizer, BertModel\n",
    "import numpy as np\n",
    "import os \n",
    "\n"
   ],
   "outputs": [],
   "execution_count": 2
  },
  {
   "metadata": {
    "ExecuteTime": {
     "end_time": "2024-06-05T20:27:43.288951Z",
     "start_time": "2024-06-05T20:27:43.284390Z"
    }
   },
   "cell_type": "code",
   "source": [
    "#connect to CLOUD edgedb database and test the connection\n",
    "key='nbwt1_eyJhbGciOiJFUzI1NiIsInR5cCI6IkpXVCJ9.eyJlZGIuZC5hbGwiOnRydWUsImVkYi5pIjpbIjQ1OVByb2plY3QvbXlkYiJdLCJlZGIuci5hbGwiOnRydWUsImlhdCI6MTcxNzYxMTM0NywiaXNzIjoiYXdzLmVkZ2VkYi5jbG91ZCIsImp0aSI6Im9nWG9xQ05uRWUtZzdMZU93aWhhUnciLCJzdWIiOiI3Qk5NYWh3akVlLWlYNnM5LVRxaGdBIn0.zkNuJ4aIjhCwNOf8UDnC_YuJddnt16tapU0c7gJzfYclEBkKRABc5-6UPdqcvwYW-3W_nnYb70vcyX11_DuvYw'\n",
    "os.environ['EDGEDB_CLIENT_TLS_SECURITY'] = 'insecure' #BC I couldn't get the right certificates\n",
    "os.environ['EDGEDB_INSTANCE'] = '459Project/mydb'\n",
    "os.environ['EDGEDB_SECRET_KEY'] = key\n",
    "conn = edgedb.create_client()#dsn='edgedb://?branch=new')"
   ],
   "id": "f444993b9d64e257",
   "outputs": [],
   "execution_count": 3
  },
  {
   "cell_type": "code",
   "id": "cd3fa9db-8fdc-45b8-81a3-6f21a961978d",
   "metadata": {
    "tags": [],
    "ExecuteTime": {
     "end_time": "2024-06-05T20:28:03.200055Z",
     "start_time": "2024-06-05T20:28:02.060249Z"
    }
   },
   "source": [
    "\n",
    "tokenizer = BertTokenizer.from_pretrained('bert-base-uncased')\n",
    "model = BertModel.from_pretrained('bert-base-uncased')\n",
    "\n",
    "def get_injury_data(location):\n",
    "    jsonResponse = conn.query(\n",
    "        \"\"\"\n",
    "        SELECT InjuryLocation {\n",
    "            name,\n",
    "            injuries: {\n",
    "                name,\n",
    "                symptoms: {\n",
    "                    description\n",
    "                },\n",
    "                treatments: {\n",
    "                    name,\n",
    "                    requires_devices: {\n",
    "                        name\n",
    "                    }\n",
    "                }\n",
    "            }\n",
    "        }\n",
    "        FILTER .name = <str>$injury_name\n",
    "        \"\"\",\n",
    "        injury_name=location\n",
    "    )\n",
    "    #print(jsonResponse)\n",
    "    return jsonResponse\n",
    "\n",
    "def get_symptom_embedding(symptom):\n",
    "    inputs = tokenizer(symptom, return_tensors='pt')\n",
    "    outputs = model(**inputs)\n",
    "    return outputs.last_hidden_state.mean(dim=1).detach().numpy()\n",
    "\n",
    "def find_best_match(location, symptoms):\n",
    "    injury_data = get_injury_data(location)\n",
    "    symptom_list = [s.strip() for s in symptoms.split(',')]\n",
    "    \n",
    "    best_matches = []\n",
    "    \n",
    "    for user_symptom in symptom_list:\n",
    "        user_embedding = get_symptom_embedding(user_symptom)\n",
    "        best_match = None\n",
    "        best_score = float('inf')\n",
    "        \n",
    "        for injury in injury_data[0].injuries:\n",
    "            for db_symptom in injury.symptoms:\n",
    "                db_embedding = get_symptom_embedding(db_symptom.description)\n",
    "                score = np.linalg.norm(user_embedding - db_embedding)\n",
    "                if score < best_score:\n",
    "                    best_score = score\n",
    "                    best_match = injury\n",
    "        \n",
    "        best_matches.append(best_match) #\n",
    "    \n",
    "    best_injury = max(set(best_matches), key=best_matches.count)\n",
    "    best_treatments = best_injury.treatments\n",
    "\n",
    "    treatment_names = [treatment.name for treatment in best_treatments]\n",
    "    medical_devices = set()\n",
    "    \n",
    "    for treatment in best_treatments:\n",
    "        for device in treatment.requires_devices:\n",
    "            medical_devices.add(device.name)\n",
    "    \n",
    "    #print(best_injury.symptoms)\n",
    "    return best_injury.name, treatment_names, list(medical_devices), best_injury.symptoms\n",
    "\n",
    "def process_injury(location, symptoms):\n",
    "    best_injury, best_treatments, medical_devices, actual_sym = find_best_match(location, symptoms)\n",
    "    typical_symptoms = []\n",
    "    for s in actual_sym:\n",
    "        typical_symptoms.append(s.description)\n",
    "    \n",
    "    return best_injury, ', '.join(best_treatments), ', '.join(medical_devices), ', '.join(typical_symptoms)\n"
   ],
   "outputs": [],
   "execution_count": 5
  },
  {
   "cell_type": "code",
   "source": [
    "dropdown = gr.Dropdown(choices=[\"Shoulder\", \"Knee\", \"Feet\"], label=\"Injury Location\")\n",
    "textbox = gr.Textbox(lines=2, placeholder=\"Enter symptoms separated by commas\", label=\"Symptoms\")\n",
    "\n",
    "interface = gr.Interface(\n",
    "    fn=process_injury, \n",
    "    inputs=[dropdown, textbox], \n",
    "    outputs=[gr.Textbox(label=\"Predicted Injury\"), gr.Textbox(label=\"Treatment\"), gr.Textbox(label=\"Medical Devices\"), gr.Textbox(label='Typical Symptoms')], \n",
    "    title=\"Injury Predictor\"\n",
    ")\n",
    "\n",
    "interface.launch(share=True, debug=True)"
   ],
   "metadata": {
    "collapsed": false,
    "is_executing": true,
    "ExecuteTime": {
     "end_time": "2024-06-08T05:51:28.400617Z",
     "start_time": "2024-06-05T20:28:09.349761Z"
    }
   },
   "id": "e79eb739e07c50d4",
   "outputs": [
    {
     "name": "stdout",
     "output_type": "stream",
     "text": [
      "Running on local URL:  http://127.0.0.1:7860\n",
      "Running on public URL: https://8c99069a254e8d9477.gradio.live\n",
      "\n",
      "This share link expires in 72 hours. For free permanent hosting and GPU upgrades, run `gradio deploy` from Terminal to deploy to Spaces (https://huggingface.co/spaces)\n"
     ]
    },
    {
     "data": {
      "text/plain": [
       "<IPython.core.display.HTML object>"
      ],
      "text/html": [
       "<div><iframe src=\"https://8c99069a254e8d9477.gradio.live\" width=\"100%\" height=\"500\" allow=\"autoplay; camera; microphone; clipboard-read; clipboard-write;\" frameborder=\"0\" allowfullscreen></iframe></div>"
      ]
     },
     "metadata": {},
     "output_type": "display_data"
    },
    {
     "name": "stdout",
     "output_type": "stream",
     "text": [
      "Keyboard interruption in main thread... closing server.\n",
      "Killing tunnel 127.0.0.1:7860 <> https://8c99069a254e8d9477.gradio.live\n"
     ]
    },
    {
     "data": {
      "text/plain": []
     },
     "execution_count": 6,
     "metadata": {},
     "output_type": "execute_result"
    }
   ],
   "execution_count": 6
  }
 ],
 "metadata": {
  "kernelspec": {
   "display_name": "Python 3 (ipykernel)",
   "language": "python",
   "name": "python3"
  },
  "language_info": {
   "codemirror_mode": {
    "name": "ipython",
    "version": 3
   },
   "file_extension": ".py",
   "mimetype": "text/x-python",
   "name": "python",
   "nbconvert_exporter": "python",
   "pygments_lexer": "ipython3",
   "version": "3.11.8"
  }
 },
 "nbformat": 4,
 "nbformat_minor": 5
}
