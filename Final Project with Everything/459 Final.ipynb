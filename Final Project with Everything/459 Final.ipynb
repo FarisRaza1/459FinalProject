{
 "cells": [
  {
   "cell_type": "code",
   "execution_count": 2,
   "id": "e7c07b87-359a-4bdd-9939-9e7f3b45e0a1",
   "metadata": {
    "tags": []
   },
   "outputs": [],
   "source": [
    "import edgedb\n",
    "import gradio as gr\n",
    "\n",
    "conn = edgedb.create_client()"
   ]
  },
  {
   "cell_type": "code",
   "execution_count": 3,
   "id": "7681e7ac-ef75-4baf-bb14-58c1936f2f0d",
   "metadata": {},
   "outputs": [
    {
     "name": "stdout",
     "output_type": "stream",
     "text": [
      "[Object{name := 'Rest, Avoid painful movements ', used_for := [], requires_devices := [Object{name := 'Shoulder Ice Wrap '}, Object{name := 'Shoulder Brace'}]}, Object{name := 'Physical therapy exercises', used_for := [], requires_devices := [Object{name := 'Shoulder Ice Wrap '}, Object{name := 'Shoulder Brace'}]}, Object{name := 'Nonsteroidal anti-inflammatory drugs (NSAIDs)', used_for := [], requires_devices := [Object{name := 'Shoulder Ice Wrap '}, Object{name := 'Shoulder Brace'}]}, Object{name := 'Corticosteroid injections in the shoulder', used_for := [], requires_devices := [Object{name := 'Shoulder Ice Wrap '}, Object{name := 'Shoulder Brace'}]}, Object{name := 'Moist heat', used_for := [], requires_devices := [Object{name := 'Shoulder Ice Wrap '}, Object{name := 'Shoulder Brace'}]}, Object{name := 'Icing 20 to 30 minutes 2-3 x day', used_for := [], requires_devices := [Object{name := 'Shoulder Ice Wrap '}, Object{name := 'Shoulder Brace'}]}, Object{name := 'PT - External rotation — passive stretch.', used_for := [], requires_devices := [Object{name := 'PT Rehab Pully system  '}, Object{name := 'Red Light Shoulder Wrap '}, Object{name := 'Heating Pad Massager '}]}, Object{name := 'PT - Forward flexion — supine position.', used_for := [], requires_devices := [Object{name := 'PT Rehab Pully system  '}, Object{name := 'Red Light Shoulder Wrap '}, Object{name := 'Heating Pad Massager '}]}, Object{name := 'Crossover arm stretch.', used_for := [], requires_devices := [Object{name := 'PT Rehab Pully system  '}, Object{name := 'Red Light Shoulder Wrap '}, Object{name := 'Heating Pad Massager '}]}, Object{name := 'Steroid injections.', used_for := [], requires_devices := [Object{name := 'PT Rehab Pully system  '}, Object{name := 'Red Light Shoulder Wrap '}, Object{name := 'Heating Pad Massager '}]}, Object{name := 'Hydrodilatation', used_for := [], requires_devices := [Object{name := 'PT Rehab Pully system  '}, Object{name := 'Red Light Shoulder Wrap '}, Object{name := 'Heating Pad Massager '}]}, Object{name := 'PT - Pendulum', used_for := [], requires_devices := [Object{name := 'Shoulder Ice Wrap '}, Object{name := 'Shoulder Brace'}]}, Object{name := 'PT- Crossover Arm Stretch', used_for := [], requires_devices := [Object{name := 'Shoulder Ice Wrap '}, Object{name := 'Shoulder Brace'}]}, Object{name := 'PT- Passive Internal Rotation', used_for := [], requires_devices := [Object{name := 'Shoulder Ice Wrap '}, Object{name := 'Shoulder Brace'}]}, Object{name := 'PT- Passive External Rotation', used_for := [], requires_devices := [Object{name := 'Shoulder Ice Wrap '}, Object{name := 'Shoulder Brace'}]}, Object{name := 'PT- Sleeper Stretch', used_for := [], requires_devices := [Object{name := 'Shoulder Ice Wrap '}, Object{name := 'Shoulder Brace'}]}, Object{name := 'PT- Standing Row', used_for := [], requires_devices := [Object{name := 'Shoulder Ice Wrap '}, Object{name := 'Shoulder Brace'}]}, Object{name := 'PT - External Rotation With Arm Abducted 90°', used_for := [], requires_devices := [Object{name := 'Shoulder Ice Wrap '}, Object{name := 'Shoulder Brace'}]}, Object{name := 'PT- Internal Rotation', used_for := [], requires_devices := [Object{name := 'Shoulder Ice Wrap '}, Object{name := 'Shoulder Brace'}]}, Object{name := 'PT- External Rotation', used_for := [], requires_devices := [Object{name := 'Shoulder Ice Wrap '}, Object{name := 'Shoulder Brace'}]}, Object{name := 'PT- Elbow Flexion', used_for := [], requires_devices := [Object{name := 'Shoulder Ice Wrap '}, Object{name := 'Shoulder Brace'}]}, Object{name := 'PT- Elbow Extension', used_for := [], requires_devices := [Object{name := 'Shoulder Ice Wrap '}, Object{name := 'Shoulder Brace'}]}, Object{name := 'Immobilization', used_for := [], requires_devices := [Object{name := 'Shoulder Sling'}]}, Object{name := 'Activity Modification Avoid Painful movements ', used_for := [], requires_devices := [Object{name := 'Shoulder Sling'}]}, Object{name := 'Seek medical Attention asap ', used_for := [], requires_devices := []}]\n"
     ]
    }
   ],
   "source": [
    "jsonResponse = conn.query(\"\"\"\n",
    "    SELECT Treatment {\n",
    "        name,\n",
    "        used_for: {\n",
    "            name\n",
    "        },\n",
    "        requires_devices: {\n",
    "            name\n",
    "        }\n",
    "    }\n",
    "\"\"\")\n",
    "print(jsonResponse)\n"
   ]
  },
  {
   "cell_type": "code",
   "execution_count": 31,
   "id": "e5cfed0d-3d2b-4c35-b5be-dc8d382645f6",
   "metadata": {
    "tags": []
   },
   "outputs": [
    {
     "name": "stdout",
     "output_type": "stream",
     "text": [
      "Running on local URL:  http://127.0.0.1:7868\n",
      "IMPORTANT: You are using gradio version 4.20.1, however version 4.29.0 is available, please upgrade.\n",
      "--------\n",
      "Running on public URL: https://6de5566f434e575c70.gradio.live\n",
      "\n",
      "This share link expires in 72 hours. For free permanent hosting and GPU upgrades, run `gradio deploy` from Terminal to deploy to Spaces (https://huggingface.co/spaces)\n"
     ]
    },
    {
     "data": {
      "text/html": [
       "<div><iframe src=\"https://6de5566f434e575c70.gradio.live\" width=\"100%\" height=\"500\" allow=\"autoplay; camera; microphone; clipboard-read; clipboard-write;\" frameborder=\"0\" allowfullscreen></iframe></div>"
      ],
      "text/plain": [
       "<IPython.core.display.HTML object>"
      ]
     },
     "metadata": {},
     "output_type": "display_data"
    },
    {
     "data": {
      "text/plain": []
     },
     "execution_count": 31,
     "metadata": {},
     "output_type": "execute_result"
    }
   ],
   "source": [
    "import re\n",
    "import spacy\n",
    "import numpy as np\n",
    "from sklearn.metrics.pairwise import cosine_similarity\n",
    "import edgedb\n",
    "\n",
    "# Load spaCy model\n",
    "nlp = spacy.load(\"en_core_web_md\")\n",
    "\n",
    "# Function to find the most similar symptom in the database\n",
    "def find_similar_symptom(user_input):\n",
    "    # Split user input into individual symptoms\n",
    "    user_symptoms = re.split(r'\\s*,\\s*', user_input)\n",
    "\n",
    "    # Retrieve all symptoms from the database\n",
    "    query = \"\"\"\n",
    "        SELECT default::Symptom {\n",
    "            description\n",
    "        };\n",
    "    \"\"\"\n",
    "    symptoms = conn.query(query)\n",
    "\n",
    "    similar_symptoms = []\n",
    "    # Calculate similarity score for each user symptom\n",
    "    for user_symptom in user_symptoms:\n",
    "        # Preprocess user input\n",
    "        user_input_tokens = nlp(user_symptom.lower())\n",
    "\n",
    "        similarity_scores = {}\n",
    "        # Calculate similarity with each symptom description\n",
    "        for symptom in symptoms:\n",
    "            symptom_tokens = nlp(symptom.description.lower())\n",
    "            similarity = cosine_similarity(np.array([user_input_tokens.vector]), np.array([symptom_tokens.vector]))[0][0]\n",
    "            similarity_scores[symptom.description] = similarity\n",
    "\n",
    "        # Find the most similar symptom\n",
    "        most_similar_symptom = max(similarity_scores, key=similarity_scores.get)\n",
    "        similar_symptoms.append(most_similar_symptom)\n",
    "\n",
    "    return similar_symptoms\n",
    "\n",
    "# Function to find the most similar injury in the database\n",
    "def find_similar_injury(similar_symptoms):\n",
    "    # Retrieve all injuries from the database\n",
    "    query = \"\"\"\n",
    "        SELECT default::Injury {\n",
    "            name,\n",
    "            symptoms: {\n",
    "                description\n",
    "            }\n",
    "        };\n",
    "    \"\"\"\n",
    "    injuries = conn.query(query)\n",
    "\n",
    "    similarity_scores = {}\n",
    "    # Calculate similarity score for each injury\n",
    "    for injury in injuries:\n",
    "        injury_symptoms = [symptom.description.lower() for symptom in injury.symptoms]\n",
    "        similarity = cosine_similarity([nlp(\" \".join(similar_symptoms)).vector], [nlp(\" \".join(injury_symptoms)).vector])[0][0]\n",
    "        similarity_scores[injury.name] = similarity\n",
    "\n",
    "    # Find the most similar injury\n",
    "    most_similar_injury = max(similarity_scores, key=similarity_scores.get)\n",
    "    return most_similar_injury\n",
    "\n",
    "# Test the function\n",
    "\n",
    "\n",
    "symptoms_textbox = gr.Textbox(label=\"Enter Symptoms\", lines=3)\n",
    "\n",
    "def get_similar_injury(user_input):\n",
    "    # Find similar symptoms\n",
    "    similar_symptoms = find_similar_symptom(user_input)\n",
    "    \n",
    "    # Find similar injury based on similar symptoms\n",
    "    similar_injury = find_similar_injury(similar_symptoms)\n",
    "    \n",
    "    return similar_injury\n",
    "\n",
    "iface = gr.Interface(get_similar_injury, inputs=symptoms_textbox, outputs=\"text\", title=\"Injury Diagnosis\", description=\"Enter your symptoms to get a diagnosis.\")\n",
    "iface.launch(share=True)"
   ]
  },
  {
   "cell_type": "code",
   "execution_count": 29,
   "id": "8a89bd18-e626-470e-a205-a8493f09f8f4",
   "metadata": {
    "tags": []
   },
   "outputs": [
    {
     "name": "stdout",
     "output_type": "stream",
     "text": [
      "User Input: swelling, grinding sound, limited motion\n",
      "Most Similar Symptoms in Database: ['pain throughout the shoulder', 'hear/feel a crunching or grinding sound (crepitus) when you try to move your arm.', 'Extremely limited range of motion  ']\n",
      "Most Similar Injury: Sternoclavicular (SC) Joint Disorders\n"
     ]
    }
   ],
   "source": [
    "user_input = \"swelling, grinding sound, limited motion\"  # Example user input\n",
    "similar_symptoms = find_similar_symptom(user_input)\n",
    "similar_injury = find_similar_injury(similar_symptoms)\n",
    "print(\"User Input:\", user_input)\n",
    "print(\"Most Similar Symptoms in Database:\", similar_symptoms)\n",
    "print(\"Most Similar Injury:\", similar_injury)\n"
   ]
  },
  {
   "cell_type": "code",
   "execution_count": null,
   "id": "76ff4dfb-1bff-4888-8722-d2ace43b39e9",
   "metadata": {},
   "outputs": [],
   "source": []
  }
 ],
 "metadata": {
  "kernelspec": {
   "display_name": "Python 3 (ipykernel)",
   "language": "python",
   "name": "python3"
  },
  "language_info": {
   "codemirror_mode": {
    "name": "ipython",
    "version": 3
   },
   "file_extension": ".py",
   "mimetype": "text/x-python",
   "name": "python",
   "nbconvert_exporter": "python",
   "pygments_lexer": "ipython3",
   "version": "3.11.8"
  }
 },
 "nbformat": 4,
 "nbformat_minor": 5
}
