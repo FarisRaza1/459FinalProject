{
 "cells": [
  {
   "cell_type": "code",
   "execution_count": 2,
   "id": "e7c07b87-359a-4bdd-9939-9e7f3b45e0a1",
   "metadata": {
    "tags": []
   },
   "outputs": [],
   "source": [
    "import edgedb\n",
    "import gradio as gr\n",
    "\n",
    "conn = edgedb.create_client()"
   ]
  },
  {
   "cell_type": "code",
   "execution_count": 3,
   "id": "7681e7ac-ef75-4baf-bb14-58c1936f2f0d",
   "metadata": {},
   "outputs": [
    {
     "name": "stdout",
     "output_type": "stream",
     "text": [
      "[Object{name := 'Rest, Avoid painful movements ', used_for := [], requires_devices := [Object{name := 'Shoulder Ice Wrap '}, Object{name := 'Shoulder Brace'}]}, Object{name := 'Physical therapy exercises', used_for := [], requires_devices := [Object{name := 'Shoulder Ice Wrap '}, Object{name := 'Shoulder Brace'}]}, Object{name := 'Nonsteroidal anti-inflammatory drugs (NSAIDs)', used_for := [], requires_devices := [Object{name := 'Shoulder Ice Wrap '}, Object{name := 'Shoulder Brace'}]}, Object{name := 'Corticosteroid injections in the shoulder', used_for := [], requires_devices := [Object{name := 'Shoulder Ice Wrap '}, Object{name := 'Shoulder Brace'}]}, Object{name := 'Moist heat', used_for := [], requires_devices := [Object{name := 'Shoulder Ice Wrap '}, Object{name := 'Shoulder Brace'}]}, Object{name := 'Icing 20 to 30 minutes 2-3 x day', used_for := [], requires_devices := [Object{name := 'Shoulder Ice Wrap '}, Object{name := 'Shoulder Brace'}]}, Object{name := 'PT - External rotation — passive stretch.', used_for := [], requires_devices := [Object{name := 'PT Rehab Pully system  '}, Object{name := 'Red Light Shoulder Wrap '}, Object{name := 'Heating Pad Massager '}]}, Object{name := 'PT - Forward flexion — supine position.', used_for := [], requires_devices := [Object{name := 'PT Rehab Pully system  '}, Object{name := 'Red Light Shoulder Wrap '}, Object{name := 'Heating Pad Massager '}]}, Object{name := 'Crossover arm stretch.', used_for := [], requires_devices := [Object{name := 'PT Rehab Pully system  '}, Object{name := 'Red Light Shoulder Wrap '}, Object{name := 'Heating Pad Massager '}]}, Object{name := 'Steroid injections.', used_for := [], requires_devices := [Object{name := 'PT Rehab Pully system  '}, Object{name := 'Red Light Shoulder Wrap '}, Object{name := 'Heating Pad Massager '}]}, Object{name := 'Hydrodilatation', used_for := [], requires_devices := [Object{name := 'PT Rehab Pully system  '}, Object{name := 'Red Light Shoulder Wrap '}, Object{name := 'Heating Pad Massager '}]}, Object{name := 'PT - Pendulum', used_for := [], requires_devices := [Object{name := 'Shoulder Ice Wrap '}, Object{name := 'Shoulder Brace'}]}, Object{name := 'PT- Crossover Arm Stretch', used_for := [], requires_devices := [Object{name := 'Shoulder Ice Wrap '}, Object{name := 'Shoulder Brace'}]}, Object{name := 'PT- Passive Internal Rotation', used_for := [], requires_devices := [Object{name := 'Shoulder Ice Wrap '}, Object{name := 'Shoulder Brace'}]}, Object{name := 'PT- Passive External Rotation', used_for := [], requires_devices := [Object{name := 'Shoulder Ice Wrap '}, Object{name := 'Shoulder Brace'}]}, Object{name := 'PT- Sleeper Stretch', used_for := [], requires_devices := [Object{name := 'Shoulder Ice Wrap '}, Object{name := 'Shoulder Brace'}]}, Object{name := 'PT- Standing Row', used_for := [], requires_devices := [Object{name := 'Shoulder Ice Wrap '}, Object{name := 'Shoulder Brace'}]}, Object{name := 'PT - External Rotation With Arm Abducted 90°', used_for := [], requires_devices := [Object{name := 'Shoulder Ice Wrap '}, Object{name := 'Shoulder Brace'}]}, Object{name := 'PT- Internal Rotation', used_for := [], requires_devices := [Object{name := 'Shoulder Ice Wrap '}, Object{name := 'Shoulder Brace'}]}, Object{name := 'PT- External Rotation', used_for := [], requires_devices := [Object{name := 'Shoulder Ice Wrap '}, Object{name := 'Shoulder Brace'}]}, Object{name := 'PT- Elbow Flexion', used_for := [], requires_devices := [Object{name := 'Shoulder Ice Wrap '}, Object{name := 'Shoulder Brace'}]}, Object{name := 'PT- Elbow Extension', used_for := [], requires_devices := [Object{name := 'Shoulder Ice Wrap '}, Object{name := 'Shoulder Brace'}]}, Object{name := 'Immobilization', used_for := [], requires_devices := [Object{name := 'Shoulder Sling'}]}, Object{name := 'Activity Modification Avoid Painful movements ', used_for := [], requires_devices := [Object{name := 'Shoulder Sling'}]}, Object{name := 'Seek medical Attention asap ', used_for := [], requires_devices := [Object{name := 'Knee Brace'}]}, Object{name := 'Rest', used_for := [], requires_devices := [Object{name := 'Knee Brace'}]}, Object{name := 'Surgery (reconstructive)', used_for := [], requires_devices := [Object{name := 'Knee Brace'}]}, Object{name := 'Physical Therapy (Strengthening exercises)', used_for := [], requires_devices := [Object{name := 'Knee Brace'}]}, Object{name := 'Physical Therapy (Range-of-motion exercises)', used_for := [], requires_devices := [Object{name := 'Knee Brace'}]}, Object{name := 'Bracing', used_for := [], requires_devices := [Object{name := 'Knee Brace'}]}, Object{name := 'Physical Therapy (Stretching exercises)', used_for := [], requires_devices := [Object{name := 'Knee Brace'}]}, Object{name := 'Surgery (Meniscectomy or repair)', used_for := [], requires_devices := [Object{name := 'Knee Brace'}]}, Object{name := 'NSAIDs', used_for := [], requires_devices := [Object{name := 'Knee Brace'}]}, Object{name := 'Rest', used_for := [], requires_devices := [Object{name := 'Patellar Strap'}]}, Object{name := 'Physical Therapy (Eccentric strengthening exercises)', used_for := [], requires_devices := [Object{name := 'Patellar Strap'}]}, Object{name := 'NSAIDs', used_for := [], requires_devices := [Object{name := 'Patellar Strap'}]}, Object{name := 'Shockwave therapy', used_for := [], requires_devices := [Object{name := 'Patellar Strap'}]}, Object{name := 'Corticosteroid injections\\t\\t', used_for := [], requires_devices := [Object{name := 'Patellar Strap'}]}, Object{name := 'Rest', used_for := [], requires_devices := [Object{name := 'Knee pad'}]}, Object{name := 'Ice application', used_for := [], requires_devices := [Object{name := 'Knee pad'}]}, Object{name := 'NSAIDs', used_for := [], requires_devices := [Object{name := 'Knee pad'}]}, Object{name := 'Aspiration of bursa', used_for := [], requires_devices := [Object{name := 'Knee pad'}]}, Object{name := 'Aspiration of bursa', used_for := [], requires_devices := [Object{name := 'Knee pad'}]}, Object{name := 'Weight Management', used_for := [], requires_devices := [Object{name := 'Knee Brace'}]}, Object{name := 'Physical Therapy (Low-impact aerobic exercises)', used_for := [], requires_devices := [Object{name := 'Knee Brace'}]}, Object{name := 'Physical Therapy (Strength training)', used_for := [], requires_devices := [Object{name := 'Knee Brace'}]}, Object{name := 'Corticosteroid injections', used_for := [], requires_devices := [Object{name := 'Knee Brace'}]}, Object{name := 'Hyaluronic acid injections', used_for := [], requires_devices := [Object{name := 'Knee Brace'}]}, Object{name := 'Surgery (Joint replacement)', used_for := [], requires_devices := [Object{name := 'Knee Brace'}]}, Object{name := 'Rest', used_for := [], requires_devices := [Object{name := 'Knee Brace'}]}, Object{name := 'Physical Therapy (Strengthening exercises)', used_for := [], requires_devices := [Object{name := 'Knee Brace'}]}, Object{name := 'Physical Therapy (Taping techniques)', used_for := [], requires_devices := [Object{name := 'Knee Brace'}]}, Object{name := 'NSAIDs', used_for := [], requires_devices := [Object{name := 'Knee Brace'}]}, Object{name := 'Orthotics for footwear', used_for := [], requires_devices := [Object{name := 'Knee Brace'}]}, Object{name := 'Activity modification\\t', used_for := [], requires_devices := [Object{name := 'Knee Brace'}]}, Object{name := 'Rest', used_for := [], requires_devices := [Object{name := 'Knee Brace'}]}, Object{name := 'Ice application', used_for := [], requires_devices := [Object{name := 'Knee Brace'}]}, Object{name := 'Physical Therapy (Range-of-motion exercises)', used_for := [], requires_devices := [Object{name := 'Knee Brace'}]}, Object{name := 'Physical Therapy (Strengthening exercises)', used_for := [], requires_devices := [Object{name := 'Knee Brace'}]}, Object{name := 'Bracing', used_for := [], requires_devices := [Object{name := 'Knee Brace'}]}, Object{name := 'Surgery (In severe cases)\\t', used_for := [], requires_devices := [Object{name := 'Knee Brace'}]}, Object{name := 'Rest', used_for := [], requires_devices := [Object{name := 'Night Splints'}, Object{name := 'Orthotic inserts'}, Object{name := 'plantar fasciitis socks'}]}, Object{name := 'Stretching Exercises', used_for := [], requires_devices := [Object{name := 'Night Splints'}, Object{name := 'Orthotic inserts'}, Object{name := 'plantar fasciitis socks'}]}, Object{name := 'Orthotic Inserts', used_for := [], requires_devices := [Object{name := 'Night Splints'}, Object{name := 'Orthotic inserts'}, Object{name := 'plantar fasciitis socks'}]}, Object{name := 'Physical Therapy', used_for := [], requires_devices := [Object{name := 'Night Splints'}, Object{name := 'Orthotic inserts'}, Object{name := 'plantar fasciitis socks'}]}, Object{name := 'Corticosteroid Injections', used_for := [], requires_devices := [Object{name := 'Night Splints'}, Object{name := 'Orthotic inserts'}, Object{name := 'plantar fasciitis socks'}]}, Object{name := 'Shockwave Therapy', used_for := [], requires_devices := [Object{name := 'Night Splints'}, Object{name := 'Orthotic inserts'}, Object{name := 'plantar fasciitis socks'}]}, Object{name := 'Rest', used_for := [], requires_devices := [Object{name := 'Achilles tendon brace'}, Object{name := 'heel lifts'}]}, Object{name := 'ice therapy', used_for := [], requires_devices := [Object{name := 'Achilles tendon brace'}, Object{name := 'heel lifts'}]}, Object{name := 'physical therapy', used_for := [], requires_devices := [Object{name := 'Achilles tendon brace'}, Object{name := 'heel lifts'}]}, Object{name := 'nonsteroidal anti-inflammatory drugs (NSAIDs)', used_for := [], requires_devices := [Object{name := 'Achilles tendon brace'}, Object{name := 'heel lifts'}]}, Object{name := 'orthotic inserts', used_for := [], requires_devices := [Object{name := 'Achilles tendon brace'}, Object{name := 'heel lifts'}]}, Object{name := 'corticosteroid injections', used_for := [], requires_devices := [Object{name := 'Achilles tendon brace'}, Object{name := 'heel lifts'}]}, Object{name := 'eccentric strengthening exercises', used_for := [], requires_devices := [Object{name := 'Achilles tendon brace'}, Object{name := 'heel lifts'}]}, Object{name := 'Rest', used_for := [], requires_devices := [Object{name := 'Walking boot'}, Object{name := 'orthopedic brace'}]}, Object{name := 'immobilization with a cast or walking boot', used_for := [], requires_devices := [Object{name := 'Walking boot'}, Object{name := 'orthopedic brace'}]}, Object{name := 'pain management', used_for := [], requires_devices := [Object{name := 'Walking boot'}, Object{name := 'orthopedic brace'}]}, Object{name := 'gradual return to activity', used_for := [], requires_devices := [Object{name := 'Walking boot'}, Object{name := 'orthopedic brace'}]}, Object{name := 'calcium and vitamin D supplementation', used_for := [], requires_devices := [Object{name := 'Walking boot'}, Object{name := 'orthopedic brace'}]}, Object{name := 'Footwear modifications', used_for := [], requires_devices := [Object{name := 'Metatarsal pads'}, Object{name := 'toe spacers'}]}, Object{name := 'orthotic inserts', used_for := [], requires_devices := [Object{name := 'Metatarsal pads'}, Object{name := 'toe spacers'}]}, Object{name := 'corticosteroid injections', used_for := [], requires_devices := [Object{name := 'Metatarsal pads'}, Object{name := 'toe spacers'}]}, Object{name := 'sclerosing alcohol injections', used_for := [], requires_devices := [Object{name := 'Metatarsal pads'}, Object{name := 'toe spacers'}]}, Object{name := 'physical therapy', used_for := [], requires_devices := [Object{name := 'Metatarsal pads'}, Object{name := 'toe spacers'}]}, Object{name := 'surgery', used_for := [], requires_devices := [Object{name := 'Metatarsal pads'}, Object{name := 'toe spacers'}]}, Object{name := 'Bunion (Hallux Valgus)', used_for := [], requires_devices := [Object{name := 'Bunion splints'}, Object{name := 'toe separators'}]}, Object{name := 'padding', used_for := [], requires_devices := [Object{name := 'Bunion splints'}, Object{name := 'toe separators'}]}, Object{name := 'orthotic inserts', used_for := [], requires_devices := [Object{name := 'Bunion splints'}, Object{name := 'toe separators'}]}, Object{name := 'NSAIDs', used_for := [], requires_devices := [Object{name := 'Bunion splints'}, Object{name := 'toe separators'}]}, Object{name := 'corticosteroid injections', used_for := [], requires_devices := [Object{name := 'Bunion splints'}, Object{name := 'toe separators'}]}, Object{name := 'surgery', used_for := [], requires_devices := [Object{name := 'Bunion splints'}, Object{name := 'toe separators'}]}, Object{name := 'R.I.C.E. protocol (rest, ice, compression, elevation)', used_for := [], requires_devices := [Object{name := 'Ankle brace'}, Object{name := 'ankle support sleeve'}]}, Object{name := 'ankle braces', used_for := [], requires_devices := [Object{name := 'Ankle brace'}, Object{name := 'ankle support sleeve'}]}, Object{name := 'physical therapy', used_for := [], requires_devices := [Object{name := 'Ankle brace'}, Object{name := 'ankle support sleeve'}]}, Object{name := 'NSAIDs', used_for := [], requires_devices := [Object{name := 'Ankle brace'}, Object{name := 'ankle support sleeve'}]}, Object{name := 'corticosteroid injections', used_for := [], requires_devices := [Object{name := 'Ankle brace'}, Object{name := 'ankle support sleeve'}]}, Object{name := 'surgery', used_for := [], requires_devices := [Object{name := 'Ankle brace'}, Object{name := 'ankle support sleeve'}]}, Object{name := 'Rest', used_for := [], requires_devices := [Object{name := 'Walking boot'}, Object{name := 'orthopedic brace'}]}, Object{name := 'immobilization with a cast or walking boot', used_for := [], requires_devices := [Object{name := 'Walking boot'}, Object{name := 'orthopedic brace'}]}, Object{name := 'pain management', used_for := [], requires_devices := [Object{name := 'Walking boot'}, Object{name := 'orthopedic brace'}]}, Object{name := 'gradual return to activity', used_for := [], requires_devices := [Object{name := 'Walking boot'}, Object{name := 'orthopedic brace'}]}, Object{name := 'physical therapy', used_for := [], requires_devices := [Object{name := 'Walking boot'}, Object{name := 'orthopedic brace'}]}]\n"
     ]
    }
   ],
   "source": [
    "jsonResponse = conn.query(\"\"\"\n",
    "    SELECT Treatment {\n",
    "        name,\n",
    "        used_for: {\n",
    "            name\n",
    "        },\n",
    "        requires_devices: {\n",
    "            name\n",
    "        }\n",
    "    }\n",
    "\"\"\")\n",
    "print(jsonResponse)\n"
   ]
  },
  {
   "cell_type": "code",
   "execution_count": 5,
   "id": "76ff4dfb-1bff-4888-8722-d2ace43b39e9",
   "metadata": {
    "tags": []
   },
   "outputs": [
    {
     "name": "stdout",
     "output_type": "stream",
     "text": [
      "Running on local URL:  http://127.0.0.1:7860\n",
      "IMPORTANT: You are using gradio version 4.20.1, however version 4.29.0 is available, please upgrade.\n",
      "--------\n",
      "\n",
      "To create a public link, set `share=True` in `launch()`.\n"
     ]
    },
    {
     "data": {
      "text/html": [
       "<div><iframe src=\"http://127.0.0.1:7860/\" width=\"100%\" height=\"500\" allow=\"autoplay; camera; microphone; clipboard-read; clipboard-write;\" frameborder=\"0\" allowfullscreen></iframe></div>"
      ],
      "text/plain": [
       "<IPython.core.display.HTML object>"
      ]
     },
     "metadata": {},
     "output_type": "display_data"
    },
    {
     "data": {
      "text/plain": []
     },
     "execution_count": 5,
     "metadata": {},
     "output_type": "execute_result"
    }
   ],
   "source": [
    "import re\n",
    "import spacy\n",
    "import numpy as np\n",
    "from sklearn.metrics.pairwise import cosine_similarity\n",
    "import edgedb\n",
    "import gradio as gr\n",
    "\n",
    "# Load spaCy model\n",
    "nlp = spacy.load(\"en_core_web_md\")\n",
    "\n",
    "# Connect to EdgeDB\n",
    "\n",
    "# Function to find the most similar symptom in the database\n",
    "def find_similar_symptom(user_input):\n",
    "    # Split user input into individual symptoms\n",
    "    user_symptoms = re.split(r'\\s*,\\s*', user_input)\n",
    "\n",
    "    # Retrieve all symptoms from the database\n",
    "    query = \"\"\"\n",
    "        SELECT default::Symptom {\n",
    "            description\n",
    "        };\n",
    "    \"\"\"\n",
    "    symptoms = conn.query(query)\n",
    "\n",
    "    similar_symptoms = []\n",
    "    # Calculate similarity score for each user symptom\n",
    "    for user_symptom in user_symptoms:\n",
    "        # Preprocess user input\n",
    "        user_input_tokens = nlp(user_symptom.lower())\n",
    "\n",
    "        similarity_scores = {}\n",
    "        # Calculate similarity with each symptom description\n",
    "        for symptom in symptoms:\n",
    "            symptom_tokens = nlp(symptom.description.lower())\n",
    "            similarity = cosine_similarity(np.array([user_input_tokens.vector]), np.array([symptom_tokens.vector]))[0][0]\n",
    "            similarity_scores[symptom.description] = similarity\n",
    "\n",
    "        # Find the most similar symptom\n",
    "        most_similar_symptom = max(similarity_scores, key=similarity_scores.get)\n",
    "        similar_symptoms.append(most_similar_symptom)\n",
    "\n",
    "    return similar_symptoms\n",
    "\n",
    "# Function to find the most similar injury in the database\n",
    "def find_similar_injury(similar_symptoms):\n",
    "    # Retrieve all injuries from the database\n",
    "    query = \"\"\"\n",
    "        SELECT default::Injury {\n",
    "            name,\n",
    "            symptoms: {\n",
    "                description\n",
    "            },\n",
    "            treatments: {\n",
    "                name\n",
    "            }\n",
    "        };\n",
    "    \"\"\"\n",
    "    injuries = conn.query(query)\n",
    "\n",
    "    similarity_scores = {}\n",
    "    # Calculate similarity score for each injury\n",
    "    for injury in injuries:\n",
    "        injury_symptoms = [symptom.description.lower() for symptom in injury.symptoms]\n",
    "        similarity = cosine_similarity([nlp(\" \".join(similar_symptoms)).vector], [nlp(\" \".join(injury_symptoms)).vector])[0][0]\n",
    "        similarity_scores[injury.name] = {\n",
    "            \"similarity\": similarity,\n",
    "            \"treatments\": [treatment.name for treatment in injury.treatments]\n",
    "        }\n",
    "\n",
    "    # Find the most similar injury\n",
    "    most_similar_injury_name = max(similarity_scores, key=lambda x: similarity_scores[x][\"similarity\"])\n",
    "    most_similar_injury = similarity_scores[most_similar_injury_name]\n",
    "    return most_similar_injury_name, most_similar_injury[\"treatments\"]\n",
    "\n",
    "# Create Gradio interface\n",
    "symptoms_textbox = gr.Textbox(label=\"Enter Symptoms\", lines=3)\n",
    "\n",
    "def get_similar_injury(user_input):\n",
    "    # Find similar symptoms\n",
    "    similar_symptoms = find_similar_symptom(user_input)\n",
    "    \n",
    "    # Find similar injury and treatments based on similar symptoms\n",
    "    similar_injury, treatments = find_similar_injury(similar_symptoms)\n",
    "    \n",
    "    return similar_injury, treatments\n",
    "\n",
    "iface = gr.Interface(get_similar_injury, inputs=symptoms_textbox, outputs=[\"text\", \"text\"], title=\"Injury Diagnosis\", description=\"Enter your symptoms to get a diagnosis.\")\n",
    "iface.launch()\n"
   ]
  },
  {
   "cell_type": "code",
   "execution_count": 6,
   "id": "47ce4ff5-221d-4c43-8c45-96ce680f3103",
   "metadata": {
    "tags": []
   },
   "outputs": [
    {
     "name": "stdout",
     "output_type": "stream",
     "text": [
      "User Input: swelling, grinding sound, limited motion\n",
      "Most Similar Symptoms in Database: ['swelling', 'hear/feel a crunching or grinding sound (crepitus) when you try to move your arm.', 'Extremely limited range of motion  ']\n",
      "Most Similar Injury: ('Sternoclavicular (SC) Joint Disorders', ['Nonsteroidal anti-inflammatory drugs (NSAIDs)', 'Immobilization', 'Activity Modification Avoid Painful movements '])\n"
     ]
    }
   ],
   "source": [
    "user_input = \"swelling, grinding sound, limited motion\"  # Example user input\n",
    "similar_symptoms = find_similar_symptom(user_input)\n",
    "similar_injury = find_similar_injury(similar_symptoms)\n",
    "print(\"User Input:\", user_input)\n",
    "print(\"Most Similar Symptoms in Database:\", similar_symptoms)\n",
    "print(\"Most Similar Injury:\", similar_injury)\n"
   ]
  },
  {
   "cell_type": "code",
   "execution_count": null,
   "id": "29ead95c-ec82-4b5c-b062-4505c0c46db3",
   "metadata": {},
   "outputs": [],
   "source": []
  }
 ],
 "metadata": {
  "kernelspec": {
   "display_name": "Python 3 (ipykernel)",
   "language": "python",
   "name": "python3"
  },
  "language_info": {
   "codemirror_mode": {
    "name": "ipython",
    "version": 3
   },
   "file_extension": ".py",
   "mimetype": "text/x-python",
   "name": "python",
   "nbconvert_exporter": "python",
   "pygments_lexer": "ipython3",
   "version": "3.11.8"
  }
 },
 "nbformat": 4,
 "nbformat_minor": 5
}
